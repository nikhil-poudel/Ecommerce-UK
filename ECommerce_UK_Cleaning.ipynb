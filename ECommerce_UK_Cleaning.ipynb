{
 "cells": [
  {
   "cell_type": "code",
   "execution_count": 34,
   "id": "7f8531b7-d180-4ff8-a492-6559d09d9fa2",
   "metadata": {},
   "outputs": [],
   "source": [
    "import numpy as np\n",
    "import pandas as pd\n",
    "import seaborn as sns"
   ]
  },
  {
   "cell_type": "code",
   "execution_count": 35,
   "id": "f36e9e84-6e68-4252-a411-119d01fd4c33",
   "metadata": {},
   "outputs": [],
   "source": [
    "ecomm = pd.read_csv(\"INSERT FILE PATH FOR UNCLEANED DATA\")"
   ]
  },
  {
   "cell_type": "code",
   "execution_count": 36,
   "id": "62fd69a8-495f-4751-a7e2-14f503aef589",
   "metadata": {},
   "outputs": [
    {
     "data": {
      "text/plain": [
       "(541909, 9)"
      ]
     },
     "execution_count": 36,
     "metadata": {},
     "output_type": "execute_result"
    }
   ],
   "source": [
    "ecomm.shape"
   ]
  },
  {
   "cell_type": "code",
   "execution_count": 37,
   "id": "ce4f31dc-8cfa-44a3-9258-b24954c71297",
   "metadata": {},
   "outputs": [
    {
     "data": {
      "text/plain": [
       "index            int64\n",
       "InvoiceNo       object\n",
       "StockCode       object\n",
       "Description     object\n",
       "Quantity         int64\n",
       "InvoiceDate     object\n",
       "UnitPrice      float64\n",
       "CustomerID     float64\n",
       "Country         object\n",
       "dtype: object"
      ]
     },
     "execution_count": 37,
     "metadata": {},
     "output_type": "execute_result"
    }
   ],
   "source": [
    "ecomm.dtypes"
   ]
  },
  {
   "cell_type": "code",
   "execution_count": 38,
   "id": "c335536c-f3e7-42ad-98f8-bea6852efd33",
   "metadata": {},
   "outputs": [],
   "source": [
    "## Pandas functions to change column data types\n",
    "ecomm.InvoiceDate = pd.to_datetime(ecomm.InvoiceDate)\n",
    "ecomm.Quantity = pd.to_numeric(ecomm.Quantity)"
   ]
  },
  {
   "cell_type": "code",
   "execution_count": 39,
   "id": "a9c41a9d-c31d-4f9f-9dd4-e32b2290db79",
   "metadata": {},
   "outputs": [],
   "source": [
    "## Pandas fn that drops duplicate rows\n",
    "ecomm = ecomm.drop_duplicates()"
   ]
  },
  {
   "cell_type": "code",
   "execution_count": 40,
   "id": "f8d3c24a-7cdf-4518-bf9b-ef5ae3d6c47d",
   "metadata": {},
   "outputs": [
    {
     "data": {
      "text/plain": [
       "index               0\n",
       "InvoiceNo           0\n",
       "StockCode           0\n",
       "Description      1454\n",
       "Quantity            0\n",
       "InvoiceDate         0\n",
       "UnitPrice           0\n",
       "CustomerID     135080\n",
       "Country             0\n",
       "dtype: int64"
      ]
     },
     "execution_count": 40,
     "metadata": {},
     "output_type": "execute_result"
    }
   ],
   "source": [
    "# Pandas fn that checks for null values in columns\n",
    "ecomm.isnull().sum()"
   ]
  },
  {
   "cell_type": "code",
   "execution_count": 41,
   "id": "a99543ca-b52d-4c3d-9a0c-fc0645be13c3",
   "metadata": {},
   "outputs": [],
   "source": [
    "## Replaces every blank description with the description that appears most frequently with the stockcode, or sets it to 'Blank' if a stockcode cannot be found\n",
    "try:\n",
    "    ecomm.Description = ecomm.groupby('StockCode')['Description'].apply(lambda x: x.fillna(x.mode().iloc[0]))\n",
    "except IndexError:\n",
    "    ecomm.Description = ecomm.Description.fillna('Blank')\n",
    "    \n",
    "## Pandas fn that fills null values with given parameter\n",
    "ecomm.CustomerID = ecomm.CustomerID.fillna(0)"
   ]
  },
  {
   "cell_type": "code",
   "execution_count": 42,
   "id": "303b236b-d77a-4389-ac1f-c40d32654e2d",
   "metadata": {},
   "outputs": [
    {
     "data": {
      "text/plain": [
       "index          0\n",
       "InvoiceNo      0\n",
       "StockCode      0\n",
       "Description    0\n",
       "Quantity       0\n",
       "InvoiceDate    0\n",
       "UnitPrice      0\n",
       "CustomerID     0\n",
       "Country        0\n",
       "dtype: int64"
      ]
     },
     "execution_count": 42,
     "metadata": {},
     "output_type": "execute_result"
    }
   ],
   "source": [
    "#No nulls left\n",
    "ecomm.isnull().sum()"
   ]
  },
  {
   "cell_type": "code",
   "execution_count": 43,
   "id": "4d606662-8758-415e-a498-dd18becf42fb",
   "metadata": {},
   "outputs": [],
   "source": [
    "## Creating new columns\n",
    "ecomm['Time'] = ecomm.InvoiceDate.dt.time\n",
    "ecomm['Month']= ecomm.InvoiceDate.dt.month_name()\n",
    "ecomm['Year'] = ecomm.InvoiceDate.dt.year\n",
    "ecomm['Day'] = ecomm.InvoiceDate.dt.day_name()\n",
    "ecomm['Date'] = ecomm.InvoiceDate.dt.date\n",
    "ecomm['Total Sales'] = ecomm['UnitPrice']*ecomm['Quantity']\n",
    "ecomm = ecomm.drop('InvoiceDate', axis = 1)\n",
    "ecomm = ecomm.drop('index', axis = 1)"
   ]
  },
  {
   "cell_type": "code",
   "execution_count": 44,
   "id": "a0db34c0-937d-4548-bc9d-89ba1d5811f5",
   "metadata": {},
   "outputs": [
    {
     "data": {
      "text/plain": [
       "np.float64(-11062.06)"
      ]
     },
     "execution_count": 44,
     "metadata": {},
     "output_type": "execute_result"
    }
   ],
   "source": [
    "## Checking if either unit price or quantity fall below 0\n",
    "ecomm.UnitPrice.min()"
   ]
  },
  {
   "cell_type": "code",
   "execution_count": 45,
   "id": "637647ff-8835-4e16-9bca-4654841a3ca6",
   "metadata": {},
   "outputs": [
    {
     "data": {
      "text/plain": [
       "np.int64(-80995)"
      ]
     },
     "execution_count": 45,
     "metadata": {},
     "output_type": "execute_result"
    }
   ],
   "source": [
    "ecomm.Quantity.min()"
   ]
  },
  {
   "cell_type": "code",
   "execution_count": 46,
   "id": "a2642990-7b48-47d0-ab99-843a7c0580de",
   "metadata": {},
   "outputs": [
    {
     "data": {
      "text/html": [
       "<div>\n",
       "<style scoped>\n",
       "    .dataframe tbody tr th:only-of-type {\n",
       "        vertical-align: middle;\n",
       "    }\n",
       "\n",
       "    .dataframe tbody tr th {\n",
       "        vertical-align: top;\n",
       "    }\n",
       "\n",
       "    .dataframe thead th {\n",
       "        text-align: right;\n",
       "    }\n",
       "</style>\n",
       "<table border=\"1\" class=\"dataframe\">\n",
       "  <thead>\n",
       "    <tr style=\"text-align: right;\">\n",
       "      <th></th>\n",
       "      <th>InvoiceNo</th>\n",
       "      <th>StockCode</th>\n",
       "      <th>Description</th>\n",
       "      <th>Quantity</th>\n",
       "      <th>UnitPrice</th>\n",
       "      <th>CustomerID</th>\n",
       "      <th>Country</th>\n",
       "      <th>Time</th>\n",
       "      <th>Month</th>\n",
       "      <th>Year</th>\n",
       "      <th>Day</th>\n",
       "      <th>Date</th>\n",
       "      <th>Total Sales</th>\n",
       "    </tr>\n",
       "  </thead>\n",
       "  <tbody>\n",
       "    <tr>\n",
       "      <th>299983</th>\n",
       "      <td>A563186</td>\n",
       "      <td>B</td>\n",
       "      <td>Adjust bad debt</td>\n",
       "      <td>1</td>\n",
       "      <td>-11062.06</td>\n",
       "      <td>0.0</td>\n",
       "      <td>United Kingdom</td>\n",
       "      <td>14:51:00</td>\n",
       "      <td>August</td>\n",
       "      <td>2011</td>\n",
       "      <td>Friday</td>\n",
       "      <td>2011-08-12</td>\n",
       "      <td>-11062.06</td>\n",
       "    </tr>\n",
       "    <tr>\n",
       "      <th>299984</th>\n",
       "      <td>A563187</td>\n",
       "      <td>B</td>\n",
       "      <td>Adjust bad debt</td>\n",
       "      <td>1</td>\n",
       "      <td>-11062.06</td>\n",
       "      <td>0.0</td>\n",
       "      <td>United Kingdom</td>\n",
       "      <td>14:52:00</td>\n",
       "      <td>August</td>\n",
       "      <td>2011</td>\n",
       "      <td>Friday</td>\n",
       "      <td>2011-08-12</td>\n",
       "      <td>-11062.06</td>\n",
       "    </tr>\n",
       "  </tbody>\n",
       "</table>\n",
       "</div>"
      ],
      "text/plain": [
       "       InvoiceNo StockCode      Description  Quantity  UnitPrice  CustomerID  \\\n",
       "299983   A563186         B  Adjust bad debt         1  -11062.06         0.0   \n",
       "299984   A563187         B  Adjust bad debt         1  -11062.06         0.0   \n",
       "\n",
       "               Country      Time   Month  Year     Day        Date  \\\n",
       "299983  United Kingdom  14:51:00  August  2011  Friday  2011-08-12   \n",
       "299984  United Kingdom  14:52:00  August  2011  Friday  2011-08-12   \n",
       "\n",
       "        Total Sales  \n",
       "299983    -11062.06  \n",
       "299984    -11062.06  "
      ]
     },
     "execution_count": 46,
     "metadata": {},
     "output_type": "execute_result"
    }
   ],
   "source": [
    "ecomm[ecomm['UnitPrice'] < 0]"
   ]
  },
  {
   "cell_type": "code",
   "execution_count": 47,
   "id": "ff39e2b3-1af3-4c84-b829-3f7ec3d0af9d",
   "metadata": {},
   "outputs": [
    {
     "data": {
      "text/html": [
       "<div>\n",
       "<style scoped>\n",
       "    .dataframe tbody tr th:only-of-type {\n",
       "        vertical-align: middle;\n",
       "    }\n",
       "\n",
       "    .dataframe tbody tr th {\n",
       "        vertical-align: top;\n",
       "    }\n",
       "\n",
       "    .dataframe thead th {\n",
       "        text-align: right;\n",
       "    }\n",
       "</style>\n",
       "<table border=\"1\" class=\"dataframe\">\n",
       "  <thead>\n",
       "    <tr style=\"text-align: right;\">\n",
       "      <th></th>\n",
       "      <th>InvoiceNo</th>\n",
       "      <th>StockCode</th>\n",
       "      <th>Description</th>\n",
       "      <th>Quantity</th>\n",
       "      <th>UnitPrice</th>\n",
       "      <th>CustomerID</th>\n",
       "      <th>Country</th>\n",
       "      <th>Time</th>\n",
       "      <th>Month</th>\n",
       "      <th>Year</th>\n",
       "      <th>Day</th>\n",
       "      <th>Date</th>\n",
       "      <th>Total Sales</th>\n",
       "    </tr>\n",
       "  </thead>\n",
       "  <tbody>\n",
       "    <tr>\n",
       "      <th>299982</th>\n",
       "      <td>A563185</td>\n",
       "      <td>B</td>\n",
       "      <td>Adjust bad debt</td>\n",
       "      <td>1</td>\n",
       "      <td>11062.06</td>\n",
       "      <td>0.0</td>\n",
       "      <td>United Kingdom</td>\n",
       "      <td>14:50:00</td>\n",
       "      <td>August</td>\n",
       "      <td>2011</td>\n",
       "      <td>Friday</td>\n",
       "      <td>2011-08-12</td>\n",
       "      <td>11062.06</td>\n",
       "    </tr>\n",
       "    <tr>\n",
       "      <th>299983</th>\n",
       "      <td>A563186</td>\n",
       "      <td>B</td>\n",
       "      <td>Adjust bad debt</td>\n",
       "      <td>1</td>\n",
       "      <td>-11062.06</td>\n",
       "      <td>0.0</td>\n",
       "      <td>United Kingdom</td>\n",
       "      <td>14:51:00</td>\n",
       "      <td>August</td>\n",
       "      <td>2011</td>\n",
       "      <td>Friday</td>\n",
       "      <td>2011-08-12</td>\n",
       "      <td>-11062.06</td>\n",
       "    </tr>\n",
       "    <tr>\n",
       "      <th>299984</th>\n",
       "      <td>A563187</td>\n",
       "      <td>B</td>\n",
       "      <td>Adjust bad debt</td>\n",
       "      <td>1</td>\n",
       "      <td>-11062.06</td>\n",
       "      <td>0.0</td>\n",
       "      <td>United Kingdom</td>\n",
       "      <td>14:52:00</td>\n",
       "      <td>August</td>\n",
       "      <td>2011</td>\n",
       "      <td>Friday</td>\n",
       "      <td>2011-08-12</td>\n",
       "      <td>-11062.06</td>\n",
       "    </tr>\n",
       "  </tbody>\n",
       "</table>\n",
       "</div>"
      ],
      "text/plain": [
       "       InvoiceNo StockCode      Description  Quantity  UnitPrice  CustomerID  \\\n",
       "299982   A563185         B  Adjust bad debt         1   11062.06         0.0   \n",
       "299983   A563186         B  Adjust bad debt         1  -11062.06         0.0   \n",
       "299984   A563187         B  Adjust bad debt         1  -11062.06         0.0   \n",
       "\n",
       "               Country      Time   Month  Year     Day        Date  \\\n",
       "299982  United Kingdom  14:50:00  August  2011  Friday  2011-08-12   \n",
       "299983  United Kingdom  14:51:00  August  2011  Friday  2011-08-12   \n",
       "299984  United Kingdom  14:52:00  August  2011  Friday  2011-08-12   \n",
       "\n",
       "        Total Sales  \n",
       "299982     11062.06  \n",
       "299983    -11062.06  \n",
       "299984    -11062.06  "
      ]
     },
     "execution_count": 47,
     "metadata": {},
     "output_type": "execute_result"
    }
   ],
   "source": [
    "ecomm[ecomm.Description.str.contains('debt')]"
   ]
  },
  {
   "cell_type": "code",
   "execution_count": 48,
   "id": "8a41545d-b58c-470c-a489-7913341b3871",
   "metadata": {},
   "outputs": [],
   "source": [
    "## we aren't doing anything with debt so we can remove it\n",
    "ecomm = ecomm[~ecomm.Description.str.contains('debt')]"
   ]
  },
  {
   "cell_type": "code",
   "execution_count": 49,
   "id": "43741765-858d-4678-85c6-54f680cbd525",
   "metadata": {},
   "outputs": [
    {
     "data": {
      "text/html": [
       "<div>\n",
       "<style scoped>\n",
       "    .dataframe tbody tr th:only-of-type {\n",
       "        vertical-align: middle;\n",
       "    }\n",
       "\n",
       "    .dataframe tbody tr th {\n",
       "        vertical-align: top;\n",
       "    }\n",
       "\n",
       "    .dataframe thead th {\n",
       "        text-align: right;\n",
       "    }\n",
       "</style>\n",
       "<table border=\"1\" class=\"dataframe\">\n",
       "  <thead>\n",
       "    <tr style=\"text-align: right;\">\n",
       "      <th></th>\n",
       "      <th>InvoiceNo</th>\n",
       "      <th>StockCode</th>\n",
       "      <th>Description</th>\n",
       "      <th>Quantity</th>\n",
       "      <th>UnitPrice</th>\n",
       "      <th>CustomerID</th>\n",
       "      <th>Country</th>\n",
       "      <th>Time</th>\n",
       "      <th>Month</th>\n",
       "      <th>Year</th>\n",
       "      <th>Day</th>\n",
       "      <th>Date</th>\n",
       "      <th>Total Sales</th>\n",
       "    </tr>\n",
       "  </thead>\n",
       "  <tbody>\n",
       "    <tr>\n",
       "      <th>141</th>\n",
       "      <td>C536379</td>\n",
       "      <td>D</td>\n",
       "      <td>Discount</td>\n",
       "      <td>-1</td>\n",
       "      <td>27.50</td>\n",
       "      <td>14527.0</td>\n",
       "      <td>United Kingdom</td>\n",
       "      <td>09:41:00</td>\n",
       "      <td>December</td>\n",
       "      <td>2010</td>\n",
       "      <td>Wednesday</td>\n",
       "      <td>2010-12-01</td>\n",
       "      <td>-27.50</td>\n",
       "    </tr>\n",
       "    <tr>\n",
       "      <th>154</th>\n",
       "      <td>C536383</td>\n",
       "      <td>35004C</td>\n",
       "      <td>SET OF 3 COLOURED  FLYING DUCKS</td>\n",
       "      <td>-1</td>\n",
       "      <td>4.65</td>\n",
       "      <td>15311.0</td>\n",
       "      <td>United Kingdom</td>\n",
       "      <td>09:49:00</td>\n",
       "      <td>December</td>\n",
       "      <td>2010</td>\n",
       "      <td>Wednesday</td>\n",
       "      <td>2010-12-01</td>\n",
       "      <td>-4.65</td>\n",
       "    </tr>\n",
       "    <tr>\n",
       "      <th>235</th>\n",
       "      <td>C536391</td>\n",
       "      <td>22556</td>\n",
       "      <td>PLASTERS IN TIN CIRCUS PARADE</td>\n",
       "      <td>-12</td>\n",
       "      <td>1.65</td>\n",
       "      <td>17548.0</td>\n",
       "      <td>United Kingdom</td>\n",
       "      <td>10:24:00</td>\n",
       "      <td>December</td>\n",
       "      <td>2010</td>\n",
       "      <td>Wednesday</td>\n",
       "      <td>2010-12-01</td>\n",
       "      <td>-19.80</td>\n",
       "    </tr>\n",
       "    <tr>\n",
       "      <th>236</th>\n",
       "      <td>C536391</td>\n",
       "      <td>21984</td>\n",
       "      <td>PACK OF 12 PINK PAISLEY TISSUES</td>\n",
       "      <td>-24</td>\n",
       "      <td>0.29</td>\n",
       "      <td>17548.0</td>\n",
       "      <td>United Kingdom</td>\n",
       "      <td>10:24:00</td>\n",
       "      <td>December</td>\n",
       "      <td>2010</td>\n",
       "      <td>Wednesday</td>\n",
       "      <td>2010-12-01</td>\n",
       "      <td>-6.96</td>\n",
       "    </tr>\n",
       "    <tr>\n",
       "      <th>237</th>\n",
       "      <td>C536391</td>\n",
       "      <td>21983</td>\n",
       "      <td>PACK OF 12 BLUE PAISLEY TISSUES</td>\n",
       "      <td>-24</td>\n",
       "      <td>0.29</td>\n",
       "      <td>17548.0</td>\n",
       "      <td>United Kingdom</td>\n",
       "      <td>10:24:00</td>\n",
       "      <td>December</td>\n",
       "      <td>2010</td>\n",
       "      <td>Wednesday</td>\n",
       "      <td>2010-12-01</td>\n",
       "      <td>-6.96</td>\n",
       "    </tr>\n",
       "    <tr>\n",
       "      <th>...</th>\n",
       "      <td>...</td>\n",
       "      <td>...</td>\n",
       "      <td>...</td>\n",
       "      <td>...</td>\n",
       "      <td>...</td>\n",
       "      <td>...</td>\n",
       "      <td>...</td>\n",
       "      <td>...</td>\n",
       "      <td>...</td>\n",
       "      <td>...</td>\n",
       "      <td>...</td>\n",
       "      <td>...</td>\n",
       "      <td>...</td>\n",
       "    </tr>\n",
       "    <tr>\n",
       "      <th>540449</th>\n",
       "      <td>C581490</td>\n",
       "      <td>23144</td>\n",
       "      <td>ZINC T-LIGHT HOLDER STARS SMALL</td>\n",
       "      <td>-11</td>\n",
       "      <td>0.83</td>\n",
       "      <td>14397.0</td>\n",
       "      <td>United Kingdom</td>\n",
       "      <td>09:57:00</td>\n",
       "      <td>December</td>\n",
       "      <td>2011</td>\n",
       "      <td>Friday</td>\n",
       "      <td>2011-12-09</td>\n",
       "      <td>-9.13</td>\n",
       "    </tr>\n",
       "    <tr>\n",
       "      <th>541541</th>\n",
       "      <td>C581499</td>\n",
       "      <td>M</td>\n",
       "      <td>Manual</td>\n",
       "      <td>-1</td>\n",
       "      <td>224.69</td>\n",
       "      <td>15498.0</td>\n",
       "      <td>United Kingdom</td>\n",
       "      <td>10:28:00</td>\n",
       "      <td>December</td>\n",
       "      <td>2011</td>\n",
       "      <td>Friday</td>\n",
       "      <td>2011-12-09</td>\n",
       "      <td>-224.69</td>\n",
       "    </tr>\n",
       "    <tr>\n",
       "      <th>541715</th>\n",
       "      <td>C581568</td>\n",
       "      <td>21258</td>\n",
       "      <td>VICTORIAN SEWING BOX LARGE</td>\n",
       "      <td>-5</td>\n",
       "      <td>10.95</td>\n",
       "      <td>15311.0</td>\n",
       "      <td>United Kingdom</td>\n",
       "      <td>11:57:00</td>\n",
       "      <td>December</td>\n",
       "      <td>2011</td>\n",
       "      <td>Friday</td>\n",
       "      <td>2011-12-09</td>\n",
       "      <td>-54.75</td>\n",
       "    </tr>\n",
       "    <tr>\n",
       "      <th>541716</th>\n",
       "      <td>C581569</td>\n",
       "      <td>84978</td>\n",
       "      <td>HANGING HEART JAR T-LIGHT HOLDER</td>\n",
       "      <td>-1</td>\n",
       "      <td>1.25</td>\n",
       "      <td>17315.0</td>\n",
       "      <td>United Kingdom</td>\n",
       "      <td>11:58:00</td>\n",
       "      <td>December</td>\n",
       "      <td>2011</td>\n",
       "      <td>Friday</td>\n",
       "      <td>2011-12-09</td>\n",
       "      <td>-1.25</td>\n",
       "    </tr>\n",
       "    <tr>\n",
       "      <th>541717</th>\n",
       "      <td>C581569</td>\n",
       "      <td>20979</td>\n",
       "      <td>36 PENCILS TUBE RED RETROSPOT</td>\n",
       "      <td>-5</td>\n",
       "      <td>1.25</td>\n",
       "      <td>17315.0</td>\n",
       "      <td>United Kingdom</td>\n",
       "      <td>11:58:00</td>\n",
       "      <td>December</td>\n",
       "      <td>2011</td>\n",
       "      <td>Friday</td>\n",
       "      <td>2011-12-09</td>\n",
       "      <td>-6.25</td>\n",
       "    </tr>\n",
       "  </tbody>\n",
       "</table>\n",
       "<p>10624 rows × 13 columns</p>\n",
       "</div>"
      ],
      "text/plain": [
       "       InvoiceNo StockCode                       Description  Quantity  \\\n",
       "141      C536379         D                          Discount        -1   \n",
       "154      C536383    35004C   SET OF 3 COLOURED  FLYING DUCKS        -1   \n",
       "235      C536391     22556    PLASTERS IN TIN CIRCUS PARADE        -12   \n",
       "236      C536391     21984  PACK OF 12 PINK PAISLEY TISSUES        -24   \n",
       "237      C536391     21983  PACK OF 12 BLUE PAISLEY TISSUES        -24   \n",
       "...          ...       ...                               ...       ...   \n",
       "540449   C581490     23144   ZINC T-LIGHT HOLDER STARS SMALL       -11   \n",
       "541541   C581499         M                            Manual        -1   \n",
       "541715   C581568     21258        VICTORIAN SEWING BOX LARGE        -5   \n",
       "541716   C581569     84978  HANGING HEART JAR T-LIGHT HOLDER        -1   \n",
       "541717   C581569     20979     36 PENCILS TUBE RED RETROSPOT        -5   \n",
       "\n",
       "        UnitPrice  CustomerID         Country      Time     Month  Year  \\\n",
       "141         27.50     14527.0  United Kingdom  09:41:00  December  2010   \n",
       "154          4.65     15311.0  United Kingdom  09:49:00  December  2010   \n",
       "235          1.65     17548.0  United Kingdom  10:24:00  December  2010   \n",
       "236          0.29     17548.0  United Kingdom  10:24:00  December  2010   \n",
       "237          0.29     17548.0  United Kingdom  10:24:00  December  2010   \n",
       "...           ...         ...             ...       ...       ...   ...   \n",
       "540449       0.83     14397.0  United Kingdom  09:57:00  December  2011   \n",
       "541541     224.69     15498.0  United Kingdom  10:28:00  December  2011   \n",
       "541715      10.95     15311.0  United Kingdom  11:57:00  December  2011   \n",
       "541716       1.25     17315.0  United Kingdom  11:58:00  December  2011   \n",
       "541717       1.25     17315.0  United Kingdom  11:58:00  December  2011   \n",
       "\n",
       "              Day        Date  Total Sales  \n",
       "141     Wednesday  2010-12-01       -27.50  \n",
       "154     Wednesday  2010-12-01        -4.65  \n",
       "235     Wednesday  2010-12-01       -19.80  \n",
       "236     Wednesday  2010-12-01        -6.96  \n",
       "237     Wednesday  2010-12-01        -6.96  \n",
       "...           ...         ...          ...  \n",
       "540449     Friday  2011-12-09        -9.13  \n",
       "541541     Friday  2011-12-09      -224.69  \n",
       "541715     Friday  2011-12-09       -54.75  \n",
       "541716     Friday  2011-12-09        -1.25  \n",
       "541717     Friday  2011-12-09        -6.25  \n",
       "\n",
       "[10624 rows x 13 columns]"
      ]
     },
     "execution_count": 49,
     "metadata": {},
     "output_type": "execute_result"
    }
   ],
   "source": [
    "ecomm[ecomm['Quantity'] < 0]"
   ]
  },
  {
   "cell_type": "code",
   "execution_count": 51,
   "id": "a2e1db64-a66d-42f1-a753-f872638222b6",
   "metadata": {},
   "outputs": [],
   "source": [
    "# We will need discounts and returns to calculate sales revenue data for Tableau and we don't want to clog up our ML Algorithms with associations for discounts/returns so we'll create a new Dataframe\n",
    "cleaned = ecomm.loc[ecomm['UnitPrice']>0]"
   ]
  },
  {
   "cell_type": "code",
   "execution_count": null,
   "id": "c855c9f5-b061-4b5f-bba4-7154d22eed30",
   "metadata": {},
   "outputs": [],
   "source": [
    "#cleaned.to_csv('INSERT FILE PATH/ecommerceUK_fullcleaned.csv', encoding = 'utf-8', index = False)"
   ]
  }
 ],
 "metadata": {
  "kernelspec": {
   "display_name": "Python 3 (ipykernel)",
   "language": "python",
   "name": "python3"
  },
  "language_info": {
   "codemirror_mode": {
    "name": "ipython",
    "version": 3
   },
   "file_extension": ".py",
   "mimetype": "text/x-python",
   "name": "python",
   "nbconvert_exporter": "python",
   "pygments_lexer": "ipython3",
   "version": "3.12.5"
  }
 },
 "nbformat": 4,
 "nbformat_minor": 5
}
